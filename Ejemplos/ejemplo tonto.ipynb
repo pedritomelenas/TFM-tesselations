{
 "cells": [
  {
   "cell_type": "code",
   "execution_count": 1,
   "metadata": {
    "collapsed": true
   },
   "outputs": [],
   "source": [
    "import matplotlib.pyplot as plt"
   ]
  },
  {
   "cell_type": "code",
   "execution_count": 2,
   "metadata": {
    "collapsed": true
   },
   "outputs": [],
   "source": [
    "import random"
   ]
  },
  {
   "cell_type": "code",
   "execution_count": 3,
   "metadata": {
    "collapsed": false
   },
   "outputs": [
    {
     "name": "stdout",
     "output_type": "stream",
     "text": [
      "Populating the interactive namespace from numpy and matplotlib\n"
     ]
    },
    {
     "name": "stderr",
     "output_type": "stream",
     "text": [
      "WARNING: pylab import has clobbered these variables: ['random']\n",
      "`%matplotlib` prevents importing * from pylab and numpy\n"
     ]
    }
   ],
   "source": [
    "%pylab inline"
   ]
  },
  {
   "cell_type": "markdown",
   "metadata": {},
   "source": [
    "Un punto rojo"
   ]
  },
  {
   "cell_type": "code",
   "execution_count": 19,
   "metadata": {
    "collapsed": false
   },
   "outputs": [
    {
     "data": {
      "image/png": "[encoded data removed]",
      "text/plain": [
       "<matplotlib.figure.Figure at 0x7d20570>"
      ]
     },
     "metadata": {},
     "output_type": "display_data"
    }
   ],
   "source": [
    "color='ro'\n",
    "plt.plot([2],[3], color)\n",
    "plt.axis([0, 6, 0, 6])\n",
    "plt.show()\n"
   ]
  },
  {
   "cell_type": "markdown",
   "metadata": {},
   "source": [
    "Un punto elegido al azar y un rectángulo"
   ]
  },
  {
   "cell_type": "code",
   "execution_count": 12,
   "metadata": {
    "collapsed": false
   },
   "outputs": [
    {
     "name": "stdout",
     "output_type": "stream",
     "text": [
      "0.544167263812\n"
     ]
    }
   ],
   "source": [
    "x=random.random()\n",
    "print(x)"
   ]
  },
  {
   "cell_type": "code",
   "execution_count": 6,
   "metadata": {
    "collapsed": false
   },
   "outputs": [],
   "source": [
    "from matplotlib.transforms import Bbox"
   ]
  },
  {
   "cell_type": "code",
   "execution_count": 20,
   "metadata": {
    "collapsed": false,
    "scrolled": true
   },
   "outputs": [
    {
     "name": "stdout",
     "output_type": "stream",
     "text": [
      "(9.081247529854561, 2.1675521571218095)\n"
     ]
    },
    {
     "data": {
      "image/png": "[encoded data removed]",
      "text/plain": [
       "<matplotlib.figure.Figure at 0x7c39790>"
      ]
     },
     "metadata": {},
     "output_type": "display_data"
    }
   ],
   "source": [
    "plt.axis([0, 10, 0, 10])\n",
    "x=random.random()*10\n",
    "y=random.random()*10\n",
    "\n",
    "rect = plt.Rectangle((1, 1), 7, 7, facecolor=\"#aaaaaa\")\n",
    "plt.gca().add_patch(rect)\n",
    "bbox = Bbox.from_bounds(1, 1, 7, 7)\n",
    "color='ro'\n",
    "\n",
    "plt.plot([x], [y],color)\n",
    "print((x,y))\n",
    "plt.show()"
   ]
  },
  {
   "cell_type": "markdown",
   "metadata": {},
   "source": [
    "## Ejercicio\n",
    "\n",
    "Un punto elegido al azar rojo si está dentro del rectángulo y azul si no"
   ]
  },
  {
   "cell_type": "code",
   "execution_count": 21,
   "metadata": {
    "collapsed": false
   },
   "outputs": [
    {
     "name": "stdout",
     "output_type": "stream",
     "text": [
      "(2.9537247902373953, 6.238982396062973)\n"
     ]
    },
    {
     "data": {
      "image/png": "[encoded data removed]",
      "text/plain": [
       "<matplotlib.figure.Figure at 0x780c810>"
      ]
     },
     "metadata": {},
     "output_type": "display_data"
    }
   ],
   "source": [
    "plt.axis([0, 10, 0, 10])\n",
    "x=random.random()*10\n",
    "y=random.random()*10\n",
    "\n",
    "rect = plt.Rectangle((1, 1), 7, 7, facecolor=\"#aaaaaa\")\n",
    "plt.gca().add_patch(rect)\n",
    "bbox = Bbox.from_bounds(1, 1, 7, 7)\n",
    "\n",
    "if 1<x<7 and 1<y<7:\n",
    "    color='ro'\n",
    "else:\n",
    "    color='bo'\n",
    "plt.plot([x], [y],color)\n",
    "print((x,y))\n",
    "plt.show()"
   ]
  },
  {
   "cell_type": "code",
   "execution_count": 24,
   "metadata": {
    "collapsed": false
   },
   "outputs": [
    {
     "name": "stdout",
     "output_type": "stream",
     "text": [
      "(6.841348283001417, 9.566353495303513)\n"
     ]
    },
    {
     "data": {
      "image/png": "[encoded data removed]",
      "text/plain": [
       "<matplotlib.figure.Figure at 0x5437250>"
      ]
     },
     "metadata": {},
     "output_type": "display_data"
    }
   ],
   "source": [
    "plt.axis([0, 10, 0, 10])\n",
    "x=random.random()*10\n",
    "y=random.random()*10\n",
    "\n",
    "rect = plt.Rectangle((1, 1), 7, 7, facecolor=\"#aaaaaa\")\n",
    "plt.gca().add_patch(rect)\n",
    "bbox = Bbox.from_bounds(1, 1, 7, 7)\n",
    "\n",
    "if 1<x<7 and 1<y<7:\n",
    "    color='ro'\n",
    "else:\n",
    "    color='bo'\n",
    "plt.plot([x], [y],color)\n",
    "print((x,y))\n",
    "plt.show()"
   ]
  },
  {
   "cell_type": "code",
   "execution_count": null,
   "metadata": {
    "collapsed": true
   },
   "outputs": [],
   "source": []
  }
 ],
 "metadata": {
  "kernelspec": {
   "display_name": "Python 2",
   "language": "python",
   "name": "python2"
  },
  "language_info": {
   "codemirror_mode": {
    "name": "ipython",
    "version": 2
   },
   "file_extension": ".py",
   "mimetype": "text/x-python",
   "name": "python",
   "nbconvert_exporter": "python",
   "pygments_lexer": "ipython2",
   "version": "2.7.10"
  }
 },
 "nbformat": 4,
 "nbformat_minor": 0
}
