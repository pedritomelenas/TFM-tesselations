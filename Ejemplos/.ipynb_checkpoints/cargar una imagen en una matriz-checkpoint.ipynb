{
 "cells": [
  {
   "cell_type": "code",
   "execution_count": 2,
   "metadata": {
    "collapsed": false
   },
   "outputs": [
    {
     "name": "stdout",
     "output_type": "stream",
     "text": [
      "Populating the interactive namespace from numpy and matplotlib\n"
     ]
    }
   ],
   "source": [
    "%pylab inline"
   ]
  },
  {
   "cell_type": "markdown",
   "metadata": {},
   "source": [
    "Manual en <http://effbot.org/imagingbook/image.htm>"
   ]
  },
  {
   "cell_type": "code",
   "execution_count": 3,
   "metadata": {
    "collapsed": false
   },
   "outputs": [],
   "source": [
    "from PIL import Image\n"
   ]
  },
  {
   "cell_type": "code",
   "execution_count": 4,
   "metadata": {
    "collapsed": false
   },
   "outputs": [],
   "source": [
    "im = Image.open('/Users/pedro/Dropbox/foto-pedro-web.png')\n"
   ]
  },
  {
   "cell_type": "code",
   "execution_count": 5,
   "metadata": {
    "collapsed": true
   },
   "outputs": [],
   "source": [
    "matriz_puntos=im.load()"
   ]
  },
  {
   "cell_type": "code",
   "execution_count": 10,
   "metadata": {
    "collapsed": false
   },
   "outputs": [
    {
     "name": "stdout",
     "output_type": "stream",
     "text": [
      "1\n",
      "0\n",
      "1\n",
      "0\n",
      "88\n",
      "180\n",
      "199\n",
      "150\n",
      "146\n",
      "167\n",
      "0\n",
      "1\n",
      "0\n",
      "28\n",
      "172\n",
      "200\n",
      "171\n",
      "203\n",
      "156\n",
      "162\n",
      "0\n",
      "1\n",
      "9\n",
      "175\n",
      "180\n",
      "191\n",
      "217\n",
      "177\n",
      "174\n",
      "174\n",
      "1\n",
      "0\n",
      "109\n",
      "188\n",
      "217\n",
      "214\n",
      "215\n",
      "144\n",
      "196\n",
      "182\n",
      "1\n",
      "16\n",
      "158\n",
      "210\n",
      "231\n",
      "216\n",
      "216\n",
      "199\n",
      "201\n",
      "203\n"
     ]
    }
   ],
   "source": [
    "for i in range(30,35): \n",
    "    for j in range (10,20):\n",
    "        print(matriz_puntos[i,j][3])"
   ]
  },
  {
   "cell_type": "code",
   "execution_count": 7,
   "metadata": {
    "collapsed": false
   },
   "outputs": [],
   "source": [
    "im.show()"
   ]
  },
  {
   "cell_type": "code",
   "execution_count": null,
   "metadata": {
    "collapsed": true
   },
   "outputs": [],
   "source": []
  }
 ],
 "metadata": {
  "kernelspec": {
   "display_name": "Python 3",
   "language": "python",
   "name": "python3"
  },
  "language_info": {
   "codemirror_mode": {
    "name": "ipython",
    "version": 3
   },
   "file_extension": ".py",
   "mimetype": "text/x-python",
   "name": "python",
   "nbconvert_exporter": "python",
   "pygments_lexer": "ipython3",
   "version": "3.4.3"
  }
 },
 "nbformat": 4,
 "nbformat_minor": 0
}
