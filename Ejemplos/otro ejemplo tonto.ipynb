{
 "cells": [
  {
   "cell_type": "markdown",
   "metadata": {},
   "source": [
    "## Otro ejemplo tonto"
   ]
  },
  {
   "cell_type": "code",
   "execution_count": 1,
   "metadata": {
    "collapsed": true
   },
   "outputs": [],
   "source": [
    "import matplotlib.pyplot as plt"
   ]
  },
  {
   "cell_type": "code",
   "execution_count": 2,
   "metadata": {
    "collapsed": true
   },
   "outputs": [],
   "source": [
    "import random"
   ]
  },
  {
   "cell_type": "code",
   "execution_count": 3,
   "metadata": {
    "collapsed": false
   },
   "outputs": [
    {
     "name": "stdout",
     "output_type": "stream",
     "text": [
      "Populating the interactive namespace from numpy and matplotlib\n"
     ]
    },
    {
     "name": "stderr",
     "output_type": "stream",
     "text": [
      "WARNING: pylab import has clobbered these variables: ['random']\n",
      "`%matplotlib` prevents importing * from pylab and numpy\n"
     ]
    }
   ],
   "source": [
    "%pylab inline"
   ]
  },
  {
   "cell_type": "markdown",
   "metadata": {},
   "source": [
    "Elijo un punto al azar en la cuadrícula $0<x<2,\\,  0<y<2$"
   ]
  },
  {
   "cell_type": "code",
   "execution_count": 4,
   "metadata": {
    "collapsed": true
   },
   "outputs": [],
   "source": [
    "x=random.random()*2\n",
    "y=random.random()*2"
   ]
  },
  {
   "cell_type": "raw",
   "metadata": {},
   "source": [
    "lo pinto con un grid en el que el que la cuadrícula anterior es la región fundamental"
   ]
  },
  {
   "cell_type": "code",
   "execution_count": 5,
   "metadata": {
    "collapsed": false
   },
   "outputs": [
    {
     "data": {
      "image/png": "[encoded data removed]",
      "text/plain": [
       "<matplotlib.figure.Figure at 0x53e7d30>"
      ]
     },
     "metadata": {},
     "output_type": "display_data"
    }
   ],
   "source": [
    "plt.axis([0, 10, 0, 10])\n",
    "plt.plot([x], [y],'bo')\n",
    "plt.grid() \n",
    "plt.show()"
   ]
  },
  {
   "cell_type": "markdown",
   "metadata": {},
   "source": [
    "vamos a teselar la región aplicando una traslación de razón 2 "
   ]
  },
  {
   "cell_type": "code",
   "execution_count": 6,
   "metadata": {
    "collapsed": true
   },
   "outputs": [],
   "source": [
    "def trh(x,y):\n",
    "    return(x+2,y)   \n",
    "def trv(x,y):\n",
    "    return(x,y+2)"
   ]
  },
  {
   "cell_type": "code",
   "execution_count": 7,
   "metadata": {
    "collapsed": false
   },
   "outputs": [
    {
     "data": {
      "text/plain": [
       "(2.187779523791316, 1.0036746461681896)"
      ]
     },
     "execution_count": 7,
     "metadata": {},
     "output_type": "execute_result"
    }
   ],
   "source": [
    "trh(x,y)"
   ]
  },
  {
   "cell_type": "markdown",
   "metadata": {},
   "source": [
    "la siguiente función toma una lista de parejas y la rumpe en un par con primera coordenada la lista de las primeras coordenadas y segunda la lista de las segundas coordenadas"
   ]
  },
  {
   "cell_type": "code",
   "execution_count": 8,
   "metadata": {
    "collapsed": true
   },
   "outputs": [],
   "source": [
    "def spl(lista):\n",
    "    l=len(lista)\n",
    "    primeros=[]\n",
    "    segundos=[]    \n",
    "    for item in lista:\n",
    "        primeros.append(item[0])\n",
    "        segundos.append(item[1])\n",
    "    return (primeros,segundos)    "
   ]
  },
  {
   "cell_type": "code",
   "execution_count": 9,
   "metadata": {
    "collapsed": false
   },
   "outputs": [
    {
     "data": {
      "text/plain": [
       "([1, 3], [2, 4])"
      ]
     },
     "execution_count": 9,
     "metadata": {},
     "output_type": "execute_result"
    }
   ],
   "source": [
    "spl([(1,2),(3,4)])"
   ]
  },
  {
   "cell_type": "markdown",
   "metadata": {},
   "source": [
    "la siguiente función calcula los puntos que tengo que pintar"
   ]
  },
  {
   "cell_type": "code",
   "execution_count": 10,
   "metadata": {
    "collapsed": true
   },
   "outputs": [],
   "source": [
    "def primera(x,y):\n",
    "    lista=[(x,y)]\n",
    "    for counter in range(4) :\n",
    "         lista.append(trh(lista[-1][0],lista[-1][1]))\n",
    "    return(lista)\n",
    "\n",
    "\n",
    "def segunda(x,y):\n",
    "    lista=[(x,y)]\n",
    "    for counter in range(4) :\n",
    "         lista.append(trv(lista[-1][0],lista[-1][1]))\n",
    "    return(lista)"
   ]
  },
  {
   "cell_type": "code",
   "execution_count": 11,
   "metadata": {
    "collapsed": false
   },
   "outputs": [],
   "source": [
    "def teselar(x,y):\n",
    "    lista=segunda(x,y)\n",
    "    for item in lista:\n",
    "             lista=lista+primera(item[0],item[1])\n",
    "    return lista"
   ]
  },
  {
   "cell_type": "code",
   "execution_count": 12,
   "metadata": {
    "collapsed": false
   },
   "outputs": [
    {
     "data": {
      "text/plain": [
       "[(0.18777952379131624, 1.0036746461681896),\n",
       " (0.18777952379131624, 3.0036746461681894),\n",
       " (0.18777952379131624, 5.003674646168189),\n",
       " (0.18777952379131624, 7.003674646168189),\n",
       " (0.18777952379131624, 9.00367464616819),\n",
       " (0.18777952379131624, 1.0036746461681896),\n",
       " (2.187779523791316, 1.0036746461681896),\n",
       " (4.187779523791316, 1.0036746461681896),\n",
       " (6.187779523791316, 1.0036746461681896),\n",
       " (8.187779523791317, 1.0036746461681896),\n",
       " (0.18777952379131624, 3.0036746461681894),\n",
       " (2.187779523791316, 3.0036746461681894),\n",
       " (4.187779523791316, 3.0036746461681894),\n",
       " (6.187779523791316, 3.0036746461681894),\n",
       " (8.187779523791317, 3.0036746461681894),\n",
       " (0.18777952379131624, 5.003674646168189),\n",
       " (2.187779523791316, 5.003674646168189),\n",
       " (4.187779523791316, 5.003674646168189),\n",
       " (6.187779523791316, 5.003674646168189),\n",
       " (8.187779523791317, 5.003674646168189),\n",
       " (0.18777952379131624, 7.003674646168189),\n",
       " (2.187779523791316, 7.003674646168189),\n",
       " (4.187779523791316, 7.003674646168189),\n",
       " (6.187779523791316, 7.003674646168189),\n",
       " (8.187779523791317, 7.003674646168189),\n",
       " (0.18777952379131624, 9.00367464616819),\n",
       " (2.187779523791316, 9.00367464616819),\n",
       " (4.187779523791316, 9.00367464616819),\n",
       " (6.187779523791316, 9.00367464616819),\n",
       " (8.187779523791317, 9.00367464616819)]"
      ]
     },
     "execution_count": 12,
     "metadata": {},
     "output_type": "execute_result"
    }
   ],
   "source": [
    "teselar(x,y)"
   ]
  },
  {
   "cell_type": "markdown",
   "metadata": {},
   "source": [
    "Ahora los pinto"
   ]
  },
  {
   "cell_type": "code",
   "execution_count": 13,
   "metadata": {
    "collapsed": false
   },
   "outputs": [
    {
     "data": {
      "image/png": "[encoded data removed]",
      "text/plain": [
       "<matplotlib.figure.Figure at 0x5519b70>"
      ]
     },
     "metadata": {},
     "output_type": "display_data"
    }
   ],
   "source": [
    "plt.axis([0, 10, 0, 10])\n",
    "plt.plot(spl(teselar(x,y))[0],spl(teselar(x,y))[1],'bo')\n",
    "plt.grid()\n",
    "plt.show()"
   ]
  },
  {
   "cell_type": "markdown",
   "metadata": {},
   "source": [
    "Lo puedes hacer ahora para una recta o un polígono en lugar de para un punto?¿"
   ]
  },
  {
   "cell_type": "code",
   "execution_count": null,
   "metadata": {
    "collapsed": true
   },
   "outputs": [],
   "source": []
  }
 ],
 "metadata": {
  "kernelspec": {
   "display_name": "Python 2",
   "language": "python",
   "name": "python2"
  },
  "language_info": {
   "codemirror_mode": {
    "name": "ipython",
    "version": 2
   },
   "file_extension": ".py",
   "mimetype": "text/x-python",
   "name": "python",
   "nbconvert_exporter": "python",
   "pygments_lexer": "ipython2",
   "version": "2.7.10"
  }
 },
 "nbformat": 4,
 "nbformat_minor": 0
}
